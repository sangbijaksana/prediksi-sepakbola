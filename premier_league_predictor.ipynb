{
 "cells": [
  {
   "cell_type": "code",
   "execution_count": 1,
   "metadata": {},
   "outputs": [],
   "source": [
    "#import python libraries\n",
    "import pandas as pd\n",
    "import numpy as np\n",
    "\n",
    "import sys\n",
    "import math\n",
    "import csv\n",
    "import urllib\n",
    "import collections\n",
    "\n",
    "#import Scikit-Learn libraries for implementation of machine learning algorithms \n",
    "import sklearn\n",
    "import warnings\n",
    "warnings.filterwarnings('ignore')"
   ]
  },
  {
   "cell_type": "code",
   "execution_count": 2,
   "metadata": {
    "scrolled": true
   },
   "outputs": [],
   "source": [
    "# Recursive Feature Elimination\n",
    "from sklearn import datasets\n",
    "from sklearn.feature_selection import RFE\n",
    "from sklearn.linear_model import LogisticRegression\n",
    "#feature importance\n",
    "from sklearn import metrics\n",
    "from sklearn.ensemble import ExtraTreesClassifier\n",
    "#to create predictions\n",
    "from sklearn.model_selection import train_test_split\n",
    "#algorithms tested\n",
    "from sklearn import svm\n",
    "from sklearn.svm import SVC\n",
    "from sklearn.svm import LinearSVC\n",
    "from sklearn import linear_model\n",
    "from sklearn import tree\n",
    "from sklearn.model_selection import cross_val_score\n",
    "from sklearn.neighbors import KNeighborsClassifier\n",
    "from sklearn.ensemble import GradientBoostingRegressor\n",
    "from sklearn.ensemble import GradientBoostingClassifier\n",
    "from sklearn.ensemble import RandomForestClassifier\n",
    "from sklearn.ensemble import AdaBoostClassifier\n",
    "from sklearn.metrics import classification_report"
   ]
  },
  {
   "cell_type": "markdown",
   "metadata": {},
   "source": [
    "### Data Visualization"
   ]
  },
  {
   "cell_type": "code",
   "execution_count": 4,
   "metadata": {
    "scrolled": true
   },
   "outputs": [
    {
     "data": {
      "text/html": [
       "<div>\n",
       "<style scoped>\n",
       "    .dataframe tbody tr th:only-of-type {\n",
       "        vertical-align: middle;\n",
       "    }\n",
       "\n",
       "    .dataframe tbody tr th {\n",
       "        vertical-align: top;\n",
       "    }\n",
       "\n",
       "    .dataframe thead th {\n",
       "        text-align: right;\n",
       "    }\n",
       "</style>\n",
       "<table border=\"1\" class=\"dataframe\">\n",
       "  <thead>\n",
       "    <tr style=\"text-align: right;\">\n",
       "      <th></th>\n",
       "      <th>Date</th>\n",
       "      <th>HomeTeam</th>\n",
       "      <th>AwayTeam</th>\n",
       "      <th>FTHG</th>\n",
       "      <th>FTAG</th>\n",
       "      <th>FTR</th>\n",
       "      <th>HTHG</th>\n",
       "      <th>HTAG</th>\n",
       "      <th>HTR</th>\n",
       "      <th>Referee</th>\n",
       "      <th>...</th>\n",
       "      <th>AF</th>\n",
       "      <th>HC</th>\n",
       "      <th>AC</th>\n",
       "      <th>HY</th>\n",
       "      <th>AY</th>\n",
       "      <th>HR</th>\n",
       "      <th>AR</th>\n",
       "      <th>Year</th>\n",
       "      <th>Winner</th>\n",
       "      <th>Loser</th>\n",
       "    </tr>\n",
       "  </thead>\n",
       "  <tbody>\n",
       "    <tr>\n",
       "      <th>0</th>\n",
       "      <td>2009-08-15</td>\n",
       "      <td>Aston Villa</td>\n",
       "      <td>Wigan</td>\n",
       "      <td>0</td>\n",
       "      <td>2</td>\n",
       "      <td>A</td>\n",
       "      <td>0</td>\n",
       "      <td>1</td>\n",
       "      <td>A</td>\n",
       "      <td>M Clattenburg</td>\n",
       "      <td>...</td>\n",
       "      <td>14</td>\n",
       "      <td>4</td>\n",
       "      <td>6</td>\n",
       "      <td>2</td>\n",
       "      <td>2</td>\n",
       "      <td>0</td>\n",
       "      <td>0</td>\n",
       "      <td>2009</td>\n",
       "      <td>Wigan</td>\n",
       "      <td>Aston Villa</td>\n",
       "    </tr>\n",
       "    <tr>\n",
       "      <th>1</th>\n",
       "      <td>2009-08-15</td>\n",
       "      <td>Blackburn</td>\n",
       "      <td>Man City</td>\n",
       "      <td>0</td>\n",
       "      <td>2</td>\n",
       "      <td>A</td>\n",
       "      <td>0</td>\n",
       "      <td>1</td>\n",
       "      <td>A</td>\n",
       "      <td>M Dean</td>\n",
       "      <td>...</td>\n",
       "      <td>9</td>\n",
       "      <td>5</td>\n",
       "      <td>4</td>\n",
       "      <td>2</td>\n",
       "      <td>1</td>\n",
       "      <td>0</td>\n",
       "      <td>0</td>\n",
       "      <td>2009</td>\n",
       "      <td>Man City</td>\n",
       "      <td>Blackburn</td>\n",
       "    </tr>\n",
       "    <tr>\n",
       "      <th>2</th>\n",
       "      <td>2009-08-15</td>\n",
       "      <td>Bolton</td>\n",
       "      <td>Sunderland</td>\n",
       "      <td>0</td>\n",
       "      <td>1</td>\n",
       "      <td>A</td>\n",
       "      <td>0</td>\n",
       "      <td>1</td>\n",
       "      <td>A</td>\n",
       "      <td>A Marriner</td>\n",
       "      <td>...</td>\n",
       "      <td>10</td>\n",
       "      <td>4</td>\n",
       "      <td>7</td>\n",
       "      <td>2</td>\n",
       "      <td>1</td>\n",
       "      <td>0</td>\n",
       "      <td>0</td>\n",
       "      <td>2009</td>\n",
       "      <td>Sunderland</td>\n",
       "      <td>Bolton</td>\n",
       "    </tr>\n",
       "    <tr>\n",
       "      <th>3</th>\n",
       "      <td>2009-08-15</td>\n",
       "      <td>Chelsea</td>\n",
       "      <td>Hull</td>\n",
       "      <td>2</td>\n",
       "      <td>1</td>\n",
       "      <td>H</td>\n",
       "      <td>1</td>\n",
       "      <td>1</td>\n",
       "      <td>D</td>\n",
       "      <td>A Wiley</td>\n",
       "      <td>...</td>\n",
       "      <td>15</td>\n",
       "      <td>12</td>\n",
       "      <td>4</td>\n",
       "      <td>1</td>\n",
       "      <td>2</td>\n",
       "      <td>0</td>\n",
       "      <td>0</td>\n",
       "      <td>2009</td>\n",
       "      <td>Chelsea</td>\n",
       "      <td>Hull</td>\n",
       "    </tr>\n",
       "    <tr>\n",
       "      <th>4</th>\n",
       "      <td>2009-08-15</td>\n",
       "      <td>Everton</td>\n",
       "      <td>Arsenal</td>\n",
       "      <td>1</td>\n",
       "      <td>6</td>\n",
       "      <td>A</td>\n",
       "      <td>0</td>\n",
       "      <td>3</td>\n",
       "      <td>A</td>\n",
       "      <td>M Halsey</td>\n",
       "      <td>...</td>\n",
       "      <td>13</td>\n",
       "      <td>4</td>\n",
       "      <td>9</td>\n",
       "      <td>0</td>\n",
       "      <td>0</td>\n",
       "      <td>0</td>\n",
       "      <td>0</td>\n",
       "      <td>2009</td>\n",
       "      <td>Arsenal</td>\n",
       "      <td>Everton</td>\n",
       "    </tr>\n",
       "  </tbody>\n",
       "</table>\n",
       "<p>5 rows × 25 columns</p>\n",
       "</div>"
      ],
      "text/plain": [
       "         Date     HomeTeam    AwayTeam  FTHG  FTAG FTR  HTHG  HTAG HTR  \\\n",
       "0  2009-08-15  Aston Villa       Wigan     0     2   A     0     1   A   \n",
       "1  2009-08-15    Blackburn    Man City     0     2   A     0     1   A   \n",
       "2  2009-08-15       Bolton  Sunderland     0     1   A     0     1   A   \n",
       "3  2009-08-15      Chelsea        Hull     2     1   H     1     1   D   \n",
       "4  2009-08-15      Everton     Arsenal     1     6   A     0     3   A   \n",
       "\n",
       "         Referee  ...  AF  HC  AC  HY  AY  HR  AR  Year      Winner  \\\n",
       "0  M Clattenburg  ...  14   4   6   2   2   0   0  2009       Wigan   \n",
       "1         M Dean  ...   9   5   4   2   1   0   0  2009    Man City   \n",
       "2     A Marriner  ...  10   4   7   2   1   0   0  2009  Sunderland   \n",
       "3        A Wiley  ...  15  12   4   1   2   0   0  2009     Chelsea   \n",
       "4       M Halsey  ...  13   4   9   0   0   0   0  2009     Arsenal   \n",
       "\n",
       "         Loser  \n",
       "0  Aston Villa  \n",
       "1    Blackburn  \n",
       "2       Bolton  \n",
       "3         Hull  \n",
       "4      Everton  \n",
       "\n",
       "[5 rows x 25 columns]"
      ]
     },
     "execution_count": 4,
     "metadata": {},
     "output_type": "execute_result"
    }
   ],
   "source": [
    "EPL_data = pd.read_csv('premier-league-dataset/all_season_till_1718.csv')\n",
    "EPL_data.head()"
   ]
  },
  {
   "cell_type": "code",
   "execution_count": 5,
   "metadata": {
    "scrolled": true
   },
   "outputs": [
    {
     "data": {
      "text/html": [
       "<div>\n",
       "<style scoped>\n",
       "    .dataframe tbody tr th:only-of-type {\n",
       "        vertical-align: middle;\n",
       "    }\n",
       "\n",
       "    .dataframe tbody tr th {\n",
       "        vertical-align: top;\n",
       "    }\n",
       "\n",
       "    .dataframe thead th {\n",
       "        text-align: right;\n",
       "    }\n",
       "</style>\n",
       "<table border=\"1\" class=\"dataframe\">\n",
       "  <thead>\n",
       "    <tr style=\"text-align: right;\">\n",
       "      <th></th>\n",
       "      <th>Team_Name</th>\n",
       "    </tr>\n",
       "  </thead>\n",
       "  <tbody>\n",
       "    <tr>\n",
       "      <th>11</th>\n",
       "      <td>Watford</td>\n",
       "    </tr>\n",
       "    <tr>\n",
       "      <th>12</th>\n",
       "      <td>Newcastle</td>\n",
       "    </tr>\n",
       "    <tr>\n",
       "      <th>13</th>\n",
       "      <td>Tottenham</td>\n",
       "    </tr>\n",
       "    <tr>\n",
       "      <th>14</th>\n",
       "      <td>Liverpool</td>\n",
       "    </tr>\n",
       "    <tr>\n",
       "      <th>15</th>\n",
       "      <td>Bournemouth</td>\n",
       "    </tr>\n",
       "  </tbody>\n",
       "</table>\n",
       "</div>"
      ],
      "text/plain": [
       "      Team_Name\n",
       "11      Watford\n",
       "12    Newcastle\n",
       "13    Tottenham\n",
       "14    Liverpool\n",
       "15  Bournemouth"
      ]
     },
     "execution_count": 5,
     "metadata": {},
     "output_type": "execute_result"
    }
   ],
   "source": [
    "team_names = pd.read_csv('premier-league-dataset/Team_names.csv')\n",
    "teamList = team_names['Team_Name'].tolist()\n",
    "team_names.tail()"
   ]
  },
  {
   "cell_type": "code",
   "execution_count": 6,
   "metadata": {},
   "outputs": [
    {
     "name": "stdout",
     "output_type": "stream",
     "text": [
      "  Team_Name\n",
      "0   Arsenal\n"
     ]
    }
   ],
   "source": [
    "#test\n",
    "print (team_names[team_names['Team_Name'] == 'Arsenal'])"
   ]
  },
  {
   "cell_type": "code",
   "execution_count": 7,
   "metadata": {},
   "outputs": [
    {
     "name": "stdout",
     "output_type": "stream",
     "text": [
      "    Team_Name\n",
      "14  Liverpool\n"
     ]
    }
   ],
   "source": [
    "#test\n",
    "print (team_names[team_names['Team_Name'] == 'Liverpool'])"
   ]
  },
  {
   "cell_type": "code",
   "execution_count": 8,
   "metadata": {},
   "outputs": [],
   "source": [
    "#get annual vectors for each team\n",
    "def getAnnualTeamData(teamName, year):\n",
    "    \n",
    "    annual_data = EPL_data[EPL_data['Year'] == year]\n",
    "    \n",
    "    # num goals scored in wins and losses\n",
    "    gamesHome = annual_data[annual_data['HomeTeam'] == teamName] \n",
    "    totalGoalsScored = gamesHome['FTHG'].sum()\n",
    "    gamesAway = annual_data[annual_data['AwayTeam'] == teamName]\n",
    "    totalGames = gamesHome.append(gamesAway)\n",
    "    numGames = len(totalGames.index)\n",
    "    #total goals scored\n",
    "    totalGoalsScored += gamesAway['FTAG'].sum()\n",
    "    # total goals allowed\n",
    "    totalGoalsAllowed = gamesHome['FTAG'].sum()\n",
    "    totalGoalsAllowed += gamesAway['FTHG'].sum()\n",
    "    \n",
    "    #discipline: total red cards, total yellow cards\n",
    "    totalYellowCards = gamesHome['HY'].sum()\n",
    "    totalYellowCards += gamesAway['AY'].sum()\n",
    "    totalRedCards = gamesHome['HR'].sum()\n",
    "    totalRedCards += gamesAway['AR'].sum()\n",
    "    \n",
    "    #total fouls\n",
    "    totalFouls = gamesHome['HF'].sum()\n",
    "    totalFouls += gamesAway['AF'].sum()\n",
    "    \n",
    "    #total Corners\n",
    "    totalCorners = gamesHome['HC'].sum()\n",
    "    totalCorners += gamesAway['AC'].sum()\n",
    "\n",
    "    #shots per game (spg) = total shots / total games \n",
    "    totalShots = gamesHome['HS'].sum()\n",
    "    # avg shots per game\n",
    "    totalShots += gamesAway['AS'].sum()\n",
    "    if numGames != 0:\n",
    "        spg = totalShots / numGames\n",
    "    # avg shots allowed per game\n",
    "    totalShotsAgainst = gamesHome['AS'].sum()\n",
    "    totalShotsAgainst += gamesAway['HS'].sum()\n",
    "    if numGames != 0:\n",
    "        sag = totalShotsAgainst / numGames\n",
    "    \n",
    "    #Games Won Percentage = Games Won / (Games Won + Games Lost) \n",
    "    gamesWon = annual_data[annual_data['Winner'] == teamName] \n",
    "    gamesLost = annual_data[annual_data['Loser'] == teamName] \n",
    "    numGamesWon = len(gamesWon.index)\n",
    "    numGamesLost = len(gamesLost.index)\n",
    "    if numGames != 0:\n",
    "        gamesWonPercentage = numGamesWon / numGames\n",
    "    \n",
    "    #Defense stats\n",
    "        #Goalie Saves = Shots on Goal - Goal Scored\n",
    "    totalShotsOnGoal = gamesHome['HST'].sum()\n",
    "    totalShotsOnGoal += gamesAway['AST'].sum()\n",
    "    goalieSaves = totalShotsOnGoal - totalGoalsAllowed\n",
    "    \n",
    "        #Saves Percentage = Goalie Saves / Shots on Goal   \n",
    "    if totalShotsOnGoal != 0:\n",
    "        savesPercentage = goalieSaves / totalShotsOnGoal\n",
    "        \n",
    "        #Saves Ratio = Shots On Goal / Goalie Saves    \n",
    "    if goalieSaves != 0:\n",
    "        savesRatio = totalShotsOnGoal / goalieSaves\n",
    "\n",
    "    #Offense stats\n",
    "        #Scoring Percentage = (Scoring Attempts - Goals Scored ) / Scoring Attempts\n",
    "    if totalShots != 0:\n",
    "        scoringPercentage = (totalShots - totalGoalsScored) / totalShots\n",
    "        \n",
    "        #Scoring Ratio = Shots On Goal / Goals Scored\n",
    "    if totalGoalsScored != 0:\n",
    "        scoringRatio = totalShotsOnGoal / totalGoalsScored       \n",
    "        \n",
    "            \n",
    "    if numGames == 0: #if team not in dataset\n",
    "        gamesWon = 0\n",
    "        gamesLost = 0\n",
    "        totalGoalsScored = 0\n",
    "        totalGoalsAllowed = 0\n",
    "        totalYellowCards = 0\n",
    "        totalRedCards = 0\n",
    "        totalFouls = 0\n",
    "        totalCorners = 0\n",
    "        spg = 0\n",
    "        sag = 0\n",
    "        gamesWonPercentage = 0\n",
    "        goalieSaves = 0\n",
    "        savesPercentage = 0\n",
    "        savesRatio = 0\n",
    "        scoringPercentage = 0\n",
    "        scoringRatio = 0 \n",
    "        \n",
    "    return [totalGoalsScored, totalGoalsAllowed, totalYellowCards, totalRedCards,\n",
    "        totalFouls,totalCorners, spg, sag, gamesWonPercentage, goalieSaves, savesPercentage, savesRatio,\n",
    "        scoringPercentage, scoringRatio]"
   ]
  },
  {
   "cell_type": "code",
   "execution_count": 9,
   "metadata": {
    "scrolled": true
   },
   "outputs": [
    {
     "data": {
      "text/plain": [
       "[76, 51, 69, 2, 438, 266, 16, 11, 0, 191, 0, 1, 0, 3]"
      ]
     },
     "execution_count": 9,
     "metadata": {},
     "output_type": "execute_result"
    }
   ],
   "source": [
    "#test\n",
    "list(map(int,getAnnualTeamData('Arsenal', 2017)))"
   ]
  },
  {
   "cell_type": "code",
   "execution_count": 10,
   "metadata": {},
   "outputs": [
    {
     "data": {
      "text/plain": [
       "[55,\n",
       " 47,\n",
       " 71,\n",
       " 5,\n",
       " 398,\n",
       " 215,\n",
       " 13.736842105263158,\n",
       " 11.842105263157896,\n",
       " 0.4473684210526316,\n",
       " 129,\n",
       " 0.7329545454545454,\n",
       " 1.3643410852713178,\n",
       " 0.8946360153256705,\n",
       " 3.2]"
      ]
     },
     "execution_count": 10,
     "metadata": {},
     "output_type": "execute_result"
    }
   ],
   "source": [
    "#test\n",
    "getAnnualTeamData('Chelsea', 2015)"
   ]
  },
  {
   "cell_type": "code",
   "execution_count": 11,
   "metadata": {},
   "outputs": [],
   "source": [
    "#create a dictionary for all the team stats in a year for all the teams\n",
    "def createAnnualDict(year):\n",
    "    annualDictionary = collections.defaultdict(list)\n",
    "    for team in teamList:\n",
    "        team_vector = list(map(int,getAnnualTeamData(team, year)))\n",
    "        annualDictionary[team] = team_vector\n",
    "    return annualDictionary"
   ]
  },
  {
   "cell_type": "markdown",
   "metadata": {},
   "source": [
    "# Model Training\n",
    "Create training method that takes in a dictionary with with all the teams vectors by year. For each game, the function calculates the difference between between the team vectors for that year. Then, the function assigns a yTrain that is a 1 if the home team wins, and 0 otherwise. The difference vector becomes the input (xTrain) for the model, and a label (yTrain)."
   ]
  },
  {
   "cell_type": "code",
   "execution_count": 12,
   "metadata": {},
   "outputs": [
    {
     "data": {
      "text/plain": [
       "defaultdict(list,\n",
       "            {'Arsenal': [71, 37, 51, 3, 369, 204, 14, 11, 0, 153, 0, 1, 0, 2],\n",
       "             'Burnley': [21, 29, 34, 0, 211, 76, 9, 18, 0, 29, 0, 2, 0, 2],\n",
       "             'Everton': [49, 50, 55, 4, 381, 203, 12, 13, 0, 126, 0, 1, 0, 3],\n",
       "             'Leicester': [55,\n",
       "              42,\n",
       "              58,\n",
       "              4,\n",
       "              436,\n",
       "              209,\n",
       "              12,\n",
       "              14,\n",
       "              0,\n",
       "              111,\n",
       "              0,\n",
       "              1,\n",
       "              0,\n",
       "              2],\n",
       "             'Man City': [73, 42, 61, 3, 415, 255, 15, 8, 0, 151, 0, 1, 0, 2],\n",
       "             'Southampton': [52,\n",
       "              40,\n",
       "              55,\n",
       "              6,\n",
       "              433,\n",
       "              212,\n",
       "              13,\n",
       "              11,\n",
       "              0,\n",
       "              129,\n",
       "              0,\n",
       "              1,\n",
       "              0,\n",
       "              3],\n",
       "             'Swansea': [47, 72, 59, 1, 431, 185, 11, 15, 0, 75, 0, 1, 0, 3],\n",
       "             'West Ham': [60, 61, 73, 3, 413, 207, 15, 13, 0, 106, 0, 1, 0, 2],\n",
       "             'Crystal Palace': [45,\n",
       "              68,\n",
       "              72,\n",
       "              0,\n",
       "              459,\n",
       "              208,\n",
       "              12,\n",
       "              14,\n",
       "              0,\n",
       "              75,\n",
       "              0,\n",
       "              1,\n",
       "              0,\n",
       "              3],\n",
       "             'Man United': [56,\n",
       "              38,\n",
       "              77,\n",
       "              2,\n",
       "              486,\n",
       "              237,\n",
       "              14,\n",
       "              11,\n",
       "              0,\n",
       "              150,\n",
       "              0,\n",
       "              1,\n",
       "              0,\n",
       "              3],\n",
       "             'West Brom': [41, 47, 68, 0, 429, 167, 10, 13, 0, 61, 0, 1, 0, 2],\n",
       "             'Watford': [38, 60, 80, 4, 495, 160, 11, 13, 0, 75, 0, 1, 0, 3],\n",
       "             'Newcastle': [25, 31, 23, 2, 215, 77, 11, 12, 0, 61, 0, 1, 0, 3],\n",
       "             'Tottenham': [69,\n",
       "              33,\n",
       "              66,\n",
       "              0,\n",
       "              445,\n",
       "              275,\n",
       "              19,\n",
       "              10,\n",
       "              0,\n",
       "              212,\n",
       "              0,\n",
       "              1,\n",
       "              0,\n",
       "              3],\n",
       "             'Liverpool': [87, 49, 50, 2, 397, 249, 17, 9, 0, 179, 0, 1, 0, 2],\n",
       "             'Bournemouth': [49,\n",
       "              64,\n",
       "              51,\n",
       "              2,\n",
       "              368,\n",
       "              218,\n",
       "              11,\n",
       "              13,\n",
       "              0,\n",
       "              75,\n",
       "              0,\n",
       "              1,\n",
       "              0,\n",
       "              2]})"
      ]
     },
     "execution_count": 12,
     "metadata": {},
     "output_type": "execute_result"
    }
   ],
   "source": [
    "createAnnualDict(2016)"
   ]
  },
  {
   "cell_type": "code",
   "execution_count": 13,
   "metadata": {},
   "outputs": [],
   "source": [
    "def getTrainingData(years):\n",
    "    totalNumGames = 0\n",
    "    for year in years:\n",
    "        annual = EPL_data[EPL_data['Year'] == year]\n",
    "        totalNumGames += len(annual.index)\n",
    "    numFeatures = len(getAnnualTeamData('Arsenal',2015)) #random team, to find dimensionality\n",
    "    xTrain = np.zeros(( totalNumGames, numFeatures))\n",
    "    yTrain = np.zeros(( totalNumGames ))\n",
    "    indexCounter = 0\n",
    "    for year in years:\n",
    "        team_vectors = createAnnualDict(year)\n",
    "        annual = EPL_data[EPL_data['Year'] == year]\n",
    "        numGamesInYear = len(annual.index)\n",
    "        xTrainAnnual = np.zeros(( numGamesInYear, numFeatures))\n",
    "        yTrainAnnual = np.zeros(( numGamesInYear ))\n",
    "        counter = 0\n",
    "        for index, row in annual.iterrows():\n",
    "            h_team = row['HomeTeam']\n",
    "            h_vector = team_vectors[h_team]\n",
    "            a_team = row['AwayTeam']\n",
    "            a_vector = team_vectors[a_team]\n",
    "            diff = [a - b for a, b in zip(h_vector, a_vector)]\n",
    "            if (counter % 2 == 0):\n",
    "                if len(diff) != 0:\n",
    "                    xTrainAnnual[counter] = diff\n",
    "                yTrainAnnual[counter] = 1\n",
    "            # the opposite of the difference of the vectors should be a true negative, where team 1 does not win\n",
    "            else:\n",
    "                if len(diff) != 0:\n",
    "                    xTrainAnnual[counter] = [ -p for p in diff]\n",
    "                yTrainAnnual[counter] = 0\n",
    "            counter += 1\n",
    "        xTrain[indexCounter:numGamesInYear+indexCounter] = xTrainAnnual\n",
    "        yTrain[indexCounter:numGamesInYear+indexCounter] = yTrainAnnual\n",
    "        indexCounter += numGamesInYear\n",
    "    return xTrain, yTrain"
   ]
  },
  {
   "cell_type": "code",
   "execution_count": 14,
   "metadata": {},
   "outputs": [],
   "source": [
    "#get the dictionary\n",
    "years = range(2005,2018)\n",
    "xTrain, yTrain = getTrainingData(years)"
   ]
  },
  {
   "cell_type": "code",
   "execution_count": 15,
   "metadata": {},
   "outputs": [
    {
     "data": {
      "text/plain": [
       "(3249, 14)"
      ]
     },
     "execution_count": 15,
     "metadata": {},
     "output_type": "execute_result"
    }
   ],
   "source": [
    "xTrain.shape"
   ]
  },
  {
   "cell_type": "code",
   "execution_count": 16,
   "metadata": {},
   "outputs": [
    {
     "data": {
      "text/plain": [
       "(3249,)"
      ]
     },
     "execution_count": 16,
     "metadata": {},
     "output_type": "execute_result"
    }
   ],
   "source": [
    "yTrain.shape"
   ]
  },
  {
   "cell_type": "markdown",
   "metadata": {},
   "source": [
    "## Feature Selection\n",
    "\n",
    "Feature selection of the 14 features is done through recursive feature elimination and a ranking of feature importance with extra trees classifier. 10 features of the 14 were determined to be much more influential. "
   ]
  },
  {
   "cell_type": "code",
   "execution_count": 17,
   "metadata": {},
   "outputs": [],
   "source": [
    "model1 = LogisticRegression() #recursive feature elimination \n",
    "model2 = ExtraTreesClassifier() #feature importance"
   ]
  },
  {
   "cell_type": "code",
   "execution_count": 18,
   "metadata": {},
   "outputs": [
    {
     "name": "stdout",
     "output_type": "stream",
     "text": [
      "[ True  True  True  True False False  True  True False  True False  True\n",
      " False  True]\n",
      "[1 1 1 1 3 2 1 1 6 1 5 1 4 1]\n"
     ]
    }
   ],
   "source": [
    "# create the RFE model and select 3 attributes\n",
    "rfe = RFE(model1, 9)\n",
    "rfe = rfe.fit(xTrain, yTrain)\n",
    "# summarize the selection of the attributes\n",
    "print(rfe.support_)\n",
    "print(rfe.ranking_)"
   ]
  },
  {
   "cell_type": "code",
   "execution_count": 19,
   "metadata": {
    "scrolled": true
   },
   "outputs": [
    {
     "data": {
      "text/plain": [
       "{'totalGoalsScored': 0.10841778138402987,\n",
       " 'totalGoalsAllowed': 0.10964416579643574,\n",
       " 'totalYellowCards': 0.1120935043034216,\n",
       " 'totalRedCards': 0.10339743432793687,\n",
       " 'totalFouls': 0.0970030693402022,\n",
       " 'totalCorners': 0.10634829483188943,\n",
       " 'spg': 0.09536642574915126,\n",
       " 'sag': 0.09190452543431875,\n",
       " 'gamesWonPercentage': 0.0,\n",
       " 'goalieSaves': 0.10543869472949625,\n",
       " 'savesPercentage': 0.0,\n",
       " 'savesRatio': 0.01197047208662431,\n",
       " 'scoringPercentage': 0.0,\n",
       " 'scoringRatio': 0.05841563201649369}"
      ]
     },
     "execution_count": 19,
     "metadata": {},
     "output_type": "execute_result"
    }
   ],
   "source": [
    "# Feature Importance\n",
    "#Top Features: total goals scored, total goals allowed, total yellow cards/red cards, total fouls, total corners,\n",
    "    #spg, sag, goalie saves, scoring ratio\n",
    "    \n",
    "#Lowest features: scoring percentage, saves percentage, games won percentage, save ratio\n",
    "    \n",
    "#fit an Extra Trees model to the data\n",
    "model2.fit(xTrain, yTrain)\n",
    "#display the relative importance of each attribute\n",
    "features = [\"totalGoalsScored\", \"totalGoalsAllowed\", \"totalYellowCards\", \"totalRedCards\", \"totalFouls\",\"totalCorners\", \"spg\", \"sag\", \"gamesWonPercentage\", \"goalieSaves\", \"savesPercentage\", \"savesRatio\", \"scoringPercentage\", \"scoringRatio\"]\n",
    "importances = model2.feature_importances_\n",
    "importance_dict = dict(zip(features,importances))\n",
    "importance_dict"
   ]
  },
  {
   "cell_type": "markdown",
   "metadata": {},
   "source": [
    "### Updated Functions to include only top 10 features"
   ]
  },
  {
   "cell_type": "code",
   "execution_count": 20,
   "metadata": {},
   "outputs": [],
   "source": [
    "#updated function to include only top 10 features\n",
    "def getAnnualTeamData2(teamName, year):\n",
    "    \n",
    "    annual_data = EPL_data[EPL_data['Year'] == year]\n",
    "    \n",
    "    # num goals scored in wins and losses\n",
    "    gamesHome = annual_data[annual_data['HomeTeam'] == teamName] \n",
    "    totalGoalsScored = gamesHome['FTHG'].sum()\n",
    "    gamesAway = annual_data[annual_data['AwayTeam'] == teamName]\n",
    "    totalGames = gamesHome.append(gamesAway)\n",
    "    numGames = len(totalGames.index)\n",
    "    #total goals scored\n",
    "    totalGoalsScored += gamesAway['FTAG'].sum()\n",
    "    # total goals allowed\n",
    "    totalGoalsAllowed = gamesHome['FTAG'].sum()\n",
    "    totalGoalsAllowed += gamesAway['FTHG'].sum()\n",
    "    \n",
    "    #discipline: total red cards, total yellow cards\n",
    "    totalYellowCards = gamesHome['HY'].sum()\n",
    "    totalYellowCards += gamesAway['AY'].sum()\n",
    "    totalRedCards = gamesHome['HR'].sum()\n",
    "    totalRedCards += gamesAway['AR'].sum()\n",
    "    \n",
    "    #total fouls\n",
    "    totalFouls = gamesHome['HF'].sum()\n",
    "    totalFouls += gamesAway['AF'].sum()\n",
    "    \n",
    "    #total Corners\n",
    "    totalCorners = gamesHome['HC'].sum()\n",
    "    totalCorners += gamesAway['AC'].sum()\n",
    "\n",
    "    #shots per game (spg) = total shots / total games \n",
    "    totalShots = gamesHome['HS'].sum()\n",
    "    # avg shots per game\n",
    "    totalShots += gamesAway['AS'].sum()\n",
    "    if numGames != 0:\n",
    "        spg = totalShots / numGames\n",
    "    # avg shots allowed per game\n",
    "    totalShotsAgainst = gamesHome['AS'].sum()\n",
    "    totalShotsAgainst += gamesAway['HS'].sum()\n",
    "    if numGames != 0:\n",
    "        sag = totalShotsAgainst / numGames\n",
    "    \n",
    "    #Games Won Percentage = Games Won / (Games Won + Games Lost) \n",
    "    gamesWon = annual_data[annual_data['Winner'] == teamName] \n",
    "    gamesLost = annual_data[annual_data['Loser'] == teamName] \n",
    "    numGamesWon = len(gamesWon.index)\n",
    "    numGamesLost = len(gamesLost.index)\n",
    "    if numGames != 0:\n",
    "        gamesWonPercentage = numGamesWon / numGames\n",
    "    \n",
    "    #Defense stats\n",
    "        #Goalie Saves = Shots on Goal - Goal Scored\n",
    "    totalShotsOnGoal = gamesHome['HST'].sum()\n",
    "    totalShotsOnGoal += gamesAway['AST'].sum()\n",
    "    goalieSaves = totalShotsOnGoal - totalGoalsAllowed\n",
    "    \n",
    "        #Saves Percentage = Goalie Saves / Shots on Goal   \n",
    "    if totalShotsOnGoal != 0:\n",
    "        savesPercentage = goalieSaves / totalShotsOnGoal\n",
    "        \n",
    "        #Saves Ratio = Shots On Goal / Goalie Saves    \n",
    "    if goalieSaves != 0:\n",
    "        savesRatio = totalShotsOnGoal / goalieSaves\n",
    "\n",
    "    #Offense stats\n",
    "        #Scoring Percentage = (Scoring Attempts - Goals Scored ) / Scoring Attempts\n",
    "    if totalShots != 0:\n",
    "        scoringPercentage = (totalShots - totalGoalsScored) / totalShots\n",
    "        \n",
    "        #Scoring Ratio = Shots On Goal / Goals Scored\n",
    "    if totalGoalsScored != 0:\n",
    "        scoringRatio = totalShotsOnGoal / totalGoalsScored       \n",
    "        \n",
    "            \n",
    "    if numGames == 0: #team not in dataset\n",
    "        totalGoalsScored = 0\n",
    "        totalGoalsAllowed = 0\n",
    "        totalYellowCards = 0\n",
    "        totalRedCards = 0\n",
    "        totalFouls = 0\n",
    "        totalCorners = 0\n",
    "        spg = 0\n",
    "        sag = 0\n",
    "        goalieSaves = 0\n",
    "        scoringRatio = 0\n",
    "        \n",
    "    return [totalGoalsScored, totalGoalsAllowed, totalYellowCards, totalRedCards,\n",
    "        totalFouls,totalCorners, spg, sag, goalieSaves, scoringRatio]"
   ]
  },
  {
   "cell_type": "code",
   "execution_count": 21,
   "metadata": {},
   "outputs": [
    {
     "data": {
      "text/plain": [
       "[55, 47, 71, 5, 398, 215, 13.736842105263158, 11.842105263157896, 129, 3.2]"
      ]
     },
     "execution_count": 21,
     "metadata": {},
     "output_type": "execute_result"
    }
   ],
   "source": [
    "#test\n",
    "getAnnualTeamData2('Chelsea', 2015)"
   ]
  },
  {
   "cell_type": "code",
   "execution_count": 22,
   "metadata": {},
   "outputs": [],
   "source": [
    "#updated functions to include only top 10 features\n",
    "def createAnnualDict2(year):\n",
    "    annualDictionary = collections.defaultdict(list)\n",
    "    for team in teamList:\n",
    "        team_vector = list(map(int,getAnnualTeamData2(team, year)))\n",
    "        annualDictionary[team] = team_vector\n",
    "    return annualDictionary"
   ]
  },
  {
   "cell_type": "code",
   "execution_count": 23,
   "metadata": {},
   "outputs": [
    {
     "data": {
      "text/plain": [
       "defaultdict(list,\n",
       "            {'Arsenal': [71, 37, 51, 3, 369, 204, 14, 11, 153, 2],\n",
       "             'Burnley': [21, 29, 34, 0, 211, 76, 9, 18, 29, 2],\n",
       "             'Everton': [49, 50, 55, 4, 381, 203, 12, 13, 126, 3],\n",
       "             'Leicester': [55, 42, 58, 4, 436, 209, 12, 14, 111, 2],\n",
       "             'Man City': [73, 42, 61, 3, 415, 255, 15, 8, 151, 2],\n",
       "             'Southampton': [52, 40, 55, 6, 433, 212, 13, 11, 129, 3],\n",
       "             'Swansea': [47, 72, 59, 1, 431, 185, 11, 15, 75, 3],\n",
       "             'West Ham': [60, 61, 73, 3, 413, 207, 15, 13, 106, 2],\n",
       "             'Crystal Palace': [45, 68, 72, 0, 459, 208, 12, 14, 75, 3],\n",
       "             'Man United': [56, 38, 77, 2, 486, 237, 14, 11, 150, 3],\n",
       "             'West Brom': [41, 47, 68, 0, 429, 167, 10, 13, 61, 2],\n",
       "             'Watford': [38, 60, 80, 4, 495, 160, 11, 13, 75, 3],\n",
       "             'Newcastle': [25, 31, 23, 2, 215, 77, 11, 12, 61, 3],\n",
       "             'Tottenham': [69, 33, 66, 0, 445, 275, 19, 10, 212, 3],\n",
       "             'Liverpool': [87, 49, 50, 2, 397, 249, 17, 9, 179, 2],\n",
       "             'Bournemouth': [49, 64, 51, 2, 368, 218, 11, 13, 75, 2]})"
      ]
     },
     "execution_count": 23,
     "metadata": {},
     "output_type": "execute_result"
    }
   ],
   "source": [
    "createAnnualDict2(2016)"
   ]
  },
  {
   "cell_type": "code",
   "execution_count": 24,
   "metadata": {},
   "outputs": [],
   "source": [
    "#updated functions to include only top 10 features\n",
    "def getTrainingData2(years):\n",
    "    totalNumGames = 0\n",
    "    for year in years:\n",
    "        annual = EPL_data[EPL_data['Year'] == year]\n",
    "        totalNumGames += len(annual.index)\n",
    "    numFeatures = len(getAnnualTeamData2('Arsenal',2015)) #random team, to find dimensionality\n",
    "    xTrain2 = np.zeros(( totalNumGames, numFeatures))\n",
    "    yTrain2 = np.zeros(( totalNumGames ))\n",
    "    indexCounter = 0\n",
    "    for year in years:\n",
    "        team_vectors = createAnnualDict2(year)\n",
    "        annual = EPL_data[EPL_data['Year'] == year]\n",
    "        numGamesInYear = len(annual.index)\n",
    "        xTrainAnnual = np.zeros(( numGamesInYear, numFeatures))\n",
    "        yTrainAnnual = np.zeros(( numGamesInYear ))\n",
    "        counter = 0\n",
    "        for index, row in annual.iterrows():\n",
    "            h_team = row['HomeTeam']\n",
    "            h_vector = team_vectors[h_team]\n",
    "            a_team = row['AwayTeam']\n",
    "            a_vector = team_vectors[a_team]\n",
    "            diff = [a - b for a, b in zip(h_vector, a_vector)]\n",
    "            if (counter % 2 == 0):\n",
    "                if len(diff) != 0:\n",
    "                    xTrainAnnual[counter] = diff\n",
    "                if h_team == row['Winner']:\n",
    "                    yTrainAnnual[counter] = 1\n",
    "                else: \n",
    "                    yTrainAnnual[counter] = 0\n",
    "            # the opposite of the difference of the vectors should be a true negative, where team 1 does not win\n",
    "            else:\n",
    "                if len(diff) != 0:\n",
    "                    xTrainAnnual[counter] = [ -p for p in diff]\n",
    "                yTrainAnnual[counter] = 0\n",
    "            counter += 1\n",
    "        xTrain2[indexCounter:numGamesInYear+indexCounter] = xTrainAnnual\n",
    "        yTrain2[indexCounter:numGamesInYear+indexCounter] = yTrainAnnual\n",
    "        indexCounter += numGamesInYear\n",
    "    return xTrain2, yTrain2"
   ]
  },
  {
   "cell_type": "code",
   "execution_count": 25,
   "metadata": {},
   "outputs": [],
   "source": [
    "#get the dictionary\n",
    "years = range(2005,2018)\n",
    "xTrain2, yTrain2 = getTrainingData2(years)"
   ]
  },
  {
   "cell_type": "code",
   "execution_count": 26,
   "metadata": {},
   "outputs": [
    {
     "data": {
      "text/plain": [
       "(3249, 10)"
      ]
     },
     "execution_count": 26,
     "metadata": {},
     "output_type": "execute_result"
    }
   ],
   "source": [
    "xTrain2.shape"
   ]
  },
  {
   "cell_type": "code",
   "execution_count": 27,
   "metadata": {},
   "outputs": [
    {
     "data": {
      "text/plain": [
       "(3249,)"
      ]
     },
     "execution_count": 27,
     "metadata": {},
     "output_type": "execute_result"
    }
   ],
   "source": [
    "yTrain2.shape"
   ]
  },
  {
   "cell_type": "code",
   "execution_count": 28,
   "metadata": {},
   "outputs": [
    {
     "name": "stdout",
     "output_type": "stream",
     "text": [
      "[[   0.    0.    0. ...    0.    0.    0.]\n",
      " [   0.    0.    0. ...    0.    0.    0.]\n",
      " [   0.    0.    0. ...    0.    0.    0.]\n",
      " ...\n",
      " [  11.   17.   21. ...    0.    7.   -1.]\n",
      " [  63.  -32.   -8. ...   -6.  154.   -1.]\n",
      " [ -43.    5.   10. ...    2. -119.    0.]]\n"
     ]
    }
   ],
   "source": [
    "print(xTrain2)"
   ]
  },
  {
   "cell_type": "markdown",
   "metadata": {},
   "source": [
    "## Model Validation"
   ]
  },
  {
   "cell_type": "code",
   "execution_count": 29,
   "metadata": {},
   "outputs": [],
   "source": [
    "# Tried all the following models. Uncomment model to try.\n",
    "lms = [\n",
    "    linear_model.LinearRegression(),\n",
    "    tree.DecisionTreeClassifier(),\n",
    "    tree.DecisionTreeRegressor(),\n",
    "    linear_model.LogisticRegression(),\n",
    "    linear_model.BayesianRidge(),\n",
    "    linear_model.Lasso(),\n",
    "    svm.SVC(),\n",
    "    svm.SVR(),\n",
    "    linear_model.Ridge(alpha = 0.5),\n",
    "    AdaBoostClassifier(n_estimators=100),\n",
    "    GradientBoostingClassifier(n_estimators=100),\n",
    "    GradientBoostingRegressor(n_estimators=100, max_depth=9),\n",
    "    RandomForestClassifier(n_estimators=100)\n",
    "]"
   ]
  },
  {
   "cell_type": "code",
   "execution_count": 30,
   "metadata": {},
   "outputs": [
    {
     "name": "stdout",
     "output_type": "stream",
     "text": [
      "(2274, 14) (2274,)\n",
      "(975, 14) (975,)\n"
     ]
    }
   ],
   "source": [
    "xTrain, X_test, yTrain, y_test = train_test_split(xTrain, yTrain,test_size=0.3)\n",
    "print(xTrain.shape, yTrain.shape)\n",
    "print(X_test.shape, y_test.shape)"
   ]
  },
  {
   "cell_type": "code",
   "execution_count": 31,
   "metadata": {},
   "outputs": [
    {
     "name": "stdout",
     "output_type": "stream",
     "text": [
      "LinearRegression 0.5016731055558938\n",
      "DecisionTreeClassifier 0.16512820512820514\n",
      "DecisionTreeRegressor 0.49323048551264687\n",
      "LogisticRegression 0.8184615384615385\n",
      "BayesianRidge 0.5014493963356438\n",
      "Lasso 0.5013192612137229\n",
      "SVC 0.3087179487179487\n",
      "SVR 0.24729051739185792\n",
      "Ridge 0.5016738888427577\n",
      "AdaBoostClassifier 0.8574358974358974\n",
      "GradientBoostingClassifier 0.19589743589743588\n",
      "GradientBoostingRegressor 0.5083371676269942\n",
      "RandomForestClassifier 0.18769230769230769\n"
     ]
    }
   ],
   "source": [
    "for lm in lms:\n",
    "    lm.fit(xTrain, yTrain)\n",
    "    predictions = lm.predict(X_test)\n",
    "    #avg pred\n",
    "    print(lm.__class__.__name__,sum(predictions)/len(predictions))\n",
    "    #print predictions"
   ]
  },
  {
   "cell_type": "markdown",
   "metadata": {},
   "source": [
    "## Results\n",
    "Calculate the predictions for the 2019 games using 2018 data. "
   ]
  },
  {
   "cell_type": "code",
   "execution_count": 32,
   "metadata": {},
   "outputs": [],
   "source": [
    "def createGamePrediction(team1_vector, team2_vector, xTrain, yTrain):\n",
    "    xTrain, X_test, yTrain, Y_test = train_test_split(xTrain, yTrain)\n",
    "    xTrain.shape, yTrain.shape\n",
    "    X_test.shape, y_test.shape\n",
    "    lm = linear_model.LinearRegression()\n",
    "    model2 = lm.fit(xTrain, yTrain)\n",
    "    diff = np.reshape([a - b for a, b in zip(team1_vector, team2_vector)],(1,-1))\n",
    "    predictions = lm.predict(diff)\n",
    "    return predictions[0]"
   ]
  },
  {
   "cell_type": "code",
   "execution_count": 33,
   "metadata": {
    "scrolled": true
   },
   "outputs": [
    {
     "name": "stdout",
     "output_type": "stream",
     "text": [
      "Probability that Arsenal wins: 0.5538881025440098\n",
      "Probability that West Brom wins: 0.4507117516213019\n"
     ]
    }
   ],
   "source": [
    "team1_name = 'Arsenal'\n",
    "team2_name = 'West Brom'\n",
    "team1_vector = getAnnualTeamData(team1_name, 2018)\n",
    "team2_vector = getAnnualTeamData(team2_name, 2018)\n",
    "team3_vector = getAnnualTeamData(\"Chelsea\", 2018)\n",
    "\n",
    "print ('Probability that ' + team1_name + ' wins:',createGamePrediction(team1_vector, team2_vector,xTrain, yTrain))\n",
    "print ('Probability that ' + team2_name + ' wins:',createGamePrediction(team2_vector, team1_vector,xTrain, yTrain))"
   ]
  },
  {
   "cell_type": "code",
   "execution_count": 35,
   "metadata": {},
   "outputs": [
    {
     "name": "stdout",
     "output_type": "stream",
     "text": [
      "0.5297111415044805\n"
     ]
    }
   ],
   "source": [
    "team1_vector = getAnnualTeamData(\"Arsenal\", 2017)\n",
    "team2_vector = getAnnualTeamData(\"Crystal Palace\", 2017)\n",
    "print(createGamePrediction(team1_vector, team2_vector,xTrain, yTrain))"
   ]
  },
  {
   "cell_type": "code",
   "execution_count": 36,
   "metadata": {},
   "outputs": [
    {
     "name": "stdout",
     "output_type": "stream",
     "text": [
      "0.47860113833701967\n"
     ]
    }
   ],
   "source": [
    "team1_vector = getAnnualTeamData(\"Burnley\", 2017)\n",
    "team2_vector = getAnnualTeamData(\"Man United\", 2017)\n",
    "print(createGamePrediction(team1_vector, team2_vector,xTrain, yTrain))"
   ]
  },
  {
   "cell_type": "code",
   "execution_count": 37,
   "metadata": {},
   "outputs": [],
   "source": [
    "#game_ID given to each game to simplify identification of game\n",
    "def formulatePredictions():\n",
    "    probs = [[0 for x in range(2)] for x in range(len(test_data.index))]\n",
    "    for index, row in test_data.iterrows():\n",
    "        game_ID = row['Game_ID']\n",
    "        year = row['Year'] - 1\n",
    "        team1_Name = row['HomeTeam']\n",
    "        team2_Name = row['AwayTeam']\n",
    "        team1_vector = getAnnualTeamData(team1_Name, year)\n",
    "        team2_vector = getAnnualTeamData(team2_Name, year)\n",
    "        prediction = createGamePrediction(team1_vector, team2_vector,xTrain, yTrain)\n",
    "        probs[index][0] = game_ID\n",
    "        probs[index][1] = prediction\n",
    "    probs = pd.np.array(probs)\n",
    "    return probs"
   ]
  }
 ],
 "metadata": {
  "kernelspec": {
   "display_name": "Python 3",
   "language": "python",
   "name": "python3"
  },
  "language_info": {
   "codemirror_mode": {
    "name": "ipython",
    "version": 3
   },
   "file_extension": ".py",
   "mimetype": "text/x-python",
   "name": "python",
   "nbconvert_exporter": "python",
   "pygments_lexer": "ipython3",
   "version": "3.6.8"
  }
 },
 "nbformat": 4,
 "nbformat_minor": 1
}
